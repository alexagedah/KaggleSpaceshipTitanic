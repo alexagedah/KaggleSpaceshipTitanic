{
 "cells": [
  {
   "cell_type": "markdown",
   "id": "fab8de23-5f39-4e27-88ac-a372034be3fd",
   "metadata": {
    "tags": []
   },
   "source": [
    "# Kaggle: Spaceship Titanic"
   ]
  },
  {
   "cell_type": "markdown",
   "id": "77551126-25a9-4bde-94b4-894757eb580b",
   "metadata": {},
   "source": [
    "## Libraries"
   ]
  },
  {
   "cell_type": "code",
   "execution_count": 1,
   "id": "da30ff53-b09f-4e2a-88e6-07ffc6278047",
   "metadata": {},
   "outputs": [],
   "source": [
    "import pandas as pd\n",
    "import numpy as np \n",
    "\n",
    "# Scikit-learn\n",
    "from sklearn.impute import SimpleImputer\n",
    "from sklearn.preprocessing import StandardScaler, OneHotEncoder, PowerTransformer\n",
    "from sklearn.pipeline import Pipeline\n",
    "from sklearn.compose import ColumnTransformer\n",
    "from sklearn.base import clone, BaseEstimator, TransformerMixin\n",
    "from sklearn.model_selection import StratifiedKFold, cross_val_predict\n",
    "from sklearn.metrics import accuracy_score, roc_auc_score, roc_curve, confusion_matrix\n",
    "\n",
    "from sklearn.linear_model import LogisticRegression\n",
    "from sklearn.discriminant_analysis import LinearDiscriminantAnalysis\n",
    "\n",
    "# Visualisation \n",
    "import matplotlib as mpl\n",
    "import matplotlib.pyplot as plt\n",
    "\n",
    "mpl.rcParams['font.family'] = \"Times New Roman\"\n",
    "plt.style.use(\"default\")"
   ]
  },
  {
   "cell_type": "markdown",
   "id": "b7f21c7a-7cc2-4acc-bc9d-194b9a84255b",
   "metadata": {},
   "source": [
    "## Get the data"
   ]
  },
  {
   "cell_type": "code",
   "execution_count": 2,
   "id": "2983ecd3-2f4b-47ce-afc3-acd71c5078c8",
   "metadata": {},
   "outputs": [
    {
     "name": "stdout",
     "output_type": "stream",
     "text": [
      "<class 'pandas.core.frame.DataFrame'>\n",
      "RangeIndex: 8693 entries, 0 to 8692\n",
      "Data columns (total 14 columns):\n",
      " #   Column        Non-Null Count  Dtype  \n",
      "---  ------        --------------  -----  \n",
      " 0   PassengerId   8693 non-null   object \n",
      " 1   HomePlanet    8492 non-null   object \n",
      " 2   CryoSleep     8476 non-null   object \n",
      " 3   Cabin         8494 non-null   object \n",
      " 4   Destination   8511 non-null   object \n",
      " 5   Age           8514 non-null   float64\n",
      " 6   VIP           8490 non-null   object \n",
      " 7   RoomService   8512 non-null   float64\n",
      " 8   FoodCourt     8510 non-null   float64\n",
      " 9   ShoppingMall  8485 non-null   float64\n",
      " 10  Spa           8510 non-null   float64\n",
      " 11  VRDeck        8505 non-null   float64\n",
      " 12  Name          8493 non-null   object \n",
      " 13  Transported   8693 non-null   bool   \n",
      "dtypes: bool(1), float64(6), object(7)\n",
      "memory usage: 891.5+ KB\n",
      "None\n"
     ]
    }
   ],
   "source": [
    "df = pd.read_csv(\"train.csv\")\n",
    "print(df.info())"
   ]
  },
  {
   "cell_type": "markdown",
   "id": "74e45f78-8846-4fa0-9482-bfd0aafe3beb",
   "metadata": {},
   "source": [
    "## Data Exploration\n",
    "- Number of observations: There are 8693 observations \n",
    "- There are 7 categorical predictor variables, 7 quantitative predictor variables and a categorical response variable\n",
    "-------------------------\n",
    "- PassengerId: A unique Id for each passenger. Each Id takes the form gggg_pp where gggg indicates a group the passenger is travelling with and pp is their number within the group. People in a group are often family members, but not always.\n",
    "- HomePlanet: The planet the passenger departed from, typically their planet of permanent residence.\n",
    "- CryoSleep: Indicates whether the passenger elected to be put into suspended animation for the duration of the voyage. Passengers in cryosleep are confined to their cabins.\n",
    "- Cabin: The cabin number where the passenger is staying. Takes the form deck/num/side, where side can be either P for Port or S for Starboard.\n",
    "- Destination: The planet the passenger will be debarking to.\n",
    "- Age: The age of the passenger.\n",
    "- VIP: Whether the passenger has paid for special VIP service during the voyage.\n",
    "- RoomService, FoodCourt, ShoppingMall, Spa, VRDeck: Amount the passenger has billed at each of the Spaceship Titanic's many luxury amenities.\n",
    "- Name: The first and last names of the passenger.\n",
    "- Transported: Whether the passenger was transported to another dimension. This is the target, the column you are trying to predict."
   ]
  },
  {
   "cell_type": "code",
   "execution_count": 3,
   "id": "f9a2a80f-1133-4f7f-b1cc-54884c533c0f",
   "metadata": {},
   "outputs": [
    {
     "name": "stdout",
     "output_type": "stream",
     "text": [
      "Categorical Predictors: \n",
      "Index(['PassengerId', 'HomePlanet', 'CryoSleep', 'Cabin', 'Destination', 'VIP',\n",
      "       'Name'],\n",
      "      dtype='object')\n",
      "Numerical Predictors: \n",
      "Index(['Age', 'RoomService', 'FoodCourt', 'ShoppingMall', 'Spa', 'VRDeck',\n",
      "       'Transported'],\n",
      "      dtype='object')\n"
     ]
    }
   ],
   "source": [
    "categorical_mask = (df.dtypes == object)\n",
    "categorical_variables = df.columns[categorical_mask]\n",
    "numerical_variables = df.columns[~categorical_mask]\n",
    "print(\"Categorical Predictors: \")\n",
    "print(categorical_variables)\n",
    "print(\"Numerical Predictors: \")\n",
    "print(numerical_variables)"
   ]
  },
  {
   "cell_type": "markdown",
   "id": "97c14211-f3bb-41e4-9114-70a95e0053a7",
   "metadata": {
    "tags": []
   },
   "source": [
    "### Quantitative Predictor Variables\n",
    "- Age, RoomService, FoodCourt, ShoppingMall, Spa, VRDeck, Transported"
   ]
  },
  {
   "cell_type": "code",
   "execution_count": 4,
   "id": "ef3b2ee6-1002-4b13-9b51-78f887749523",
   "metadata": {},
   "outputs": [
    {
     "name": "stdout",
     "output_type": "stream",
     "text": [
      "       Age  RoomService  FoodCourt  ShoppingMall     Spa  VRDeck  Transported\n",
      "0     39.0          0.0        0.0           0.0     0.0     0.0        False\n",
      "1     24.0        109.0        9.0          25.0   549.0    44.0         True\n",
      "2     58.0         43.0     3576.0           0.0  6715.0    49.0        False\n",
      "3     33.0          0.0     1283.0         371.0  3329.0   193.0        False\n",
      "4     16.0        303.0       70.0         151.0   565.0     2.0         True\n",
      "...    ...          ...        ...           ...     ...     ...          ...\n",
      "8688  41.0          0.0     6819.0           0.0  1643.0    74.0        False\n",
      "8689  18.0          0.0        0.0           0.0     0.0     0.0        False\n",
      "8690  26.0          0.0        0.0        1872.0     1.0     0.0         True\n",
      "8691  32.0          0.0     1049.0           0.0   353.0  3235.0        False\n",
      "8692  44.0        126.0     4688.0           0.0     0.0    12.0         True\n",
      "\n",
      "[8693 rows x 7 columns]\n"
     ]
    }
   ],
   "source": [
    "print(df.loc[:,numerical_variables])"
   ]
  },
  {
   "cell_type": "code",
   "execution_count": 5,
   "id": "dc737c61-a9c9-4bef-9705-2b3b7e97eb5f",
   "metadata": {},
   "outputs": [
    {
     "data": {
      "image/png": "[encoded data removed]",
      "text/plain": [
       "<Figure size 640x480 with 6 Axes>"
      ]
     },
     "metadata": {},
     "output_type": "display_data"
    }
   ],
   "source": [
    "fig, axes = plt.subplots(nrows = 2, ncols = 3)\n",
    "fig.subplots_adjust(hspace = 0.5)\n",
    "for i in range(0,2,1):\n",
    "    for j in range(0,3,1):\n",
    "        variable_index = i*3 + j\n",
    "        variable = numerical_variables[variable_index]\n",
    "        axes[i,j].hist(df.loc[:,variable], bins = 50)\n",
    "        axes[i,j].set_xlabel(variable)\n",
    "plt.show()"
   ]
  },
  {
   "cell_type": "markdown",
   "id": "4b8b8bb9-643d-4629-8bb4-1832c74c8079",
   "metadata": {},
   "source": [
    "- RoomService, FoodCourt, ShoppingMall, Spa and VR deck are all extremely skewed and so I will need to log transform these variables."
   ]
  },
  {
   "cell_type": "markdown",
   "id": "0c74e504-90a0-4a95-9f3d-df04a8818460",
   "metadata": {},
   "source": [
    "### Categorical Predictors\n",
    "- PassengerID, HomePlanet, CrypoSleep, Cabin, Destination, VIP, Name"
   ]
  },
  {
   "cell_type": "code",
   "execution_count": 6,
   "id": "027858c8-928a-4bee-b31a-b244e7e09057",
   "metadata": {},
   "outputs": [
    {
     "name": "stdout",
     "output_type": "stream",
     "text": [
      "0001_01    1\n",
      "6136_01    1\n",
      "6141_01    1\n",
      "6139_06    1\n",
      "6139_05    1\n",
      "          ..\n",
      "3126_01    1\n",
      "3124_03    1\n",
      "3124_02    1\n",
      "3124_01    1\n",
      "9280_02    1\n",
      "Name: PassengerId, Length: 8693, dtype: int64\n",
      "Earth     4602\n",
      "Europa    2131\n",
      "Mars      1759\n",
      "Name: HomePlanet, dtype: int64\n",
      "False    5439\n",
      "True     3037\n",
      "Name: CryoSleep, dtype: int64\n",
      "G/734/S     8\n",
      "G/109/P     7\n",
      "B/201/P     7\n",
      "G/1368/P    7\n",
      "G/981/S     7\n",
      "           ..\n",
      "G/556/P     1\n",
      "E/231/S     1\n",
      "G/545/S     1\n",
      "G/543/S     1\n",
      "F/947/P     1\n",
      "Name: Cabin, Length: 6560, dtype: int64\n",
      "TRAPPIST-1e      5915\n",
      "55 Cancri e      1800\n",
      "PSO J318.5-22     796\n",
      "Name: Destination, dtype: int64\n",
      "False    8291\n",
      "True      199\n",
      "Name: VIP, dtype: int64\n",
      "Gollux Reedall        2\n",
      "Elaney Webstephrey    2\n",
      "Grake Porki           2\n",
      "Sus Coolez            2\n",
      "Apix Wala             2\n",
      "                     ..\n",
      "Jamela Griffy         1\n",
      "Hardy Griffy          1\n",
      "Salley Mckinn         1\n",
      "Mall Frasp            1\n",
      "Propsh Hontichre      1\n",
      "Name: Name, Length: 8473, dtype: int64\n"
     ]
    }
   ],
   "source": [
    "for variable in categorical_variables:\n",
    "    print(pd.value_counts(df.loc[:,variable]))"
   ]
  },
  {
   "cell_type": "markdown",
   "id": "1e3b1e7c-df23-4a09-ae81-c9f485be4193",
   "metadata": {},
   "source": [
    "- PassengerID cannot be used as a feature since each passenger has a unique ID.\n",
    "- Name cannot be used as a feature\n",
    "- Cabin needs to be transformed so we classify the deck and side"
   ]
  },
  {
   "cell_type": "markdown",
   "id": "aed24dbc-b916-4279-9b23-404e2c094f23",
   "metadata": {},
   "source": [
    "## Preparing the Data\n",
    "- Drop PassengerId and Name variables\n",
    "- Impute and log transform the numerical predictor variables\n",
    "- Create deck and side categorical predictor variables\n",
    "- Impute and one-hot encode the categorical predictor variables"
   ]
  },
  {
   "cell_type": "code",
   "execution_count": 7,
   "id": "242b3b7f-d83e-4c4f-a117-bcc54df23e10",
   "metadata": {},
   "outputs": [],
   "source": [
    "class CabinTransformer(BaseEstimator, TransformerMixin):\n",
    "    \"\"\"\n",
    "    Transforms the cabin column into two categorical predictor variables representing the deck and the side\n",
    "    (these can then be OneHotEncoded)\n",
    "    \"\"\"\n",
    "    def __init__(self, cabin_index):\n",
    "        self.cabin_index = cabin_index\n",
    "    def fit(self, X, y = None):\n",
    "        return self\n",
    "    def transform(self, X):\n",
    "        cabin_arr = X[:,self.cabin_index]\n",
    "        cabin_series = pd.Series(cabin_arr)\n",
    "        deck_series = cabin_series.str[0]\n",
    "        side_series = cabin_series.str[-1]\n",
    "        return np.concatenate([deck_series.values.reshape(-1,1), side_series.values.reshape(-1,1)], axis = 1)"
   ]
  },
  {
   "cell_type": "code",
   "execution_count": 8,
   "id": "1351b359-f9fc-4319-b894-29f0492d7a9e",
   "metadata": {},
   "outputs": [],
   "source": [
    "X_test = pd.read_csv(\"test.csv\")\n",
    "X_train = df.drop(columns = \"Transported\")\n",
    "y_train = df.loc[:,\"Transported\"]\n",
    "\n",
    "variables_to_drop =[\"PassengerId\",\"Name\"]\n",
    "X_test.drop(columns = variables_to_drop, inplace = True)\n",
    "X_train.drop(columns = variables_to_drop, inplace = True)\n",
    "\n",
    "categorical_mask = (X_train.dtypes == object)\n",
    "categorical_predictors = X_train.columns[categorical_mask]\n",
    "numerical_predictors = X_train.columns[~categorical_mask]\n",
    "\n",
    "cabin_index = list(X_train.columns).index(\"Cabin\")\n",
    "\n",
    "num_pipeline = Pipeline([\n",
    "(\"imputer\",SimpleImputer(strategy = \"median\")),\n",
    "(\"pow_trans\",PowerTransformer())\n",
    "])\n",
    "\n",
    "cat_pipeline = Pipeline([\n",
    "(\"imputer\",SimpleImputer(strategy = \"most_frequent\")),\n",
    "(\"cabin\",CabinTransformer(cabin_index)),\n",
    "(\"encoder\",OneHotEncoder())\n",
    "])\n",
    "\n",
    "full_pipeline = ColumnTransformer([\n",
    "(\"num\",num_pipeline,numerical_predictors),\n",
    "(\"cat\",cat_pipeline,categorical_predictors)\n",
    "])\n",
    "\n",
    "X_train_transformed = full_pipeline.fit_transform(X_train)\n",
    "X_test_transformed = full_pipeline.transform(X_test)"
   ]
  },
  {
   "cell_type": "markdown",
   "id": "ddf2d1c4-17e3-4f46-9748-dffdc78b4467",
   "metadata": {},
   "source": [
    "## Selecting and Training a Model\n",
    "- I will use 10-fold cross-validation to evaluate Logistic Regression and Linear Discriminant Analysis models and select the best model based on the estimate of the test error rate and the ROC curve."
   ]
  },
  {
   "cell_type": "code",
   "execution_count": 9,
   "id": "e75e4db5-9eff-48bf-bc71-906e744457f0",
   "metadata": {},
   "outputs": [],
   "source": [
    "def StratifiedKFoldCV(estimator, X, y, cv = 10):\n",
    "    cv_test_error_rate_lst = []\n",
    "    skfolds = StratifiedKFold(n_splits = cv, shuffle = True, random_state = 42)\n",
    "    \n",
    "    for train_index, test_index in skfolds.split(X, y):\n",
    "        X_train = X[train_index]\n",
    "        y_train = y[train_index]\n",
    "        \n",
    "        X_test = X[test_index]\n",
    "        y_test = y[test_index]\n",
    "        \n",
    "        clone_clf = clone(estimator)\n",
    "        clone_clf.fit(X_train, y_train)\n",
    "        \n",
    "        y_test_pred = clone_clf.predict(X_test)\n",
    "        \n",
    "        cv_test_error_rate = 1 - accuracy_score(y_test, y_test_pred)\n",
    "        cv_test_error_rate_lst.append(cv_test_error_rate)\n",
    "    return np.mean(cv_test_error_rate_lst)\n"
   ]
  },
  {
   "cell_type": "code",
   "execution_count": 10,
   "id": "71dc476b-dbb1-48a1-bcd2-efd207e1de02",
   "metadata": {},
   "outputs": [
    {
     "name": "stdout",
     "output_type": "stream",
     "text": [
      "CV Test Error Rate Estimate 0.2543450656719972\n",
      "ROC Area Under Curve 0.7444794551076249\n",
      "                Predicted         \n",
      "                 Negative Positive\n",
      "Actual Negative      3059     1256\n",
      "       Positive       963     3415\n"
     ]
    }
   ],
   "source": [
    "log_reg = LogisticRegression(max_iter = 1000)\n",
    "cv_test_mse = StratifiedKFoldCV(log_reg, X_train_transformed, y_train, cv = 10)\n",
    "y_train_cv_pred = cross_val_predict(log_reg, X_train_transformed, y_train, cv = 10)\n",
    "roc_auc = roc_auc_score(y_train, y_train_cv_pred)\n",
    "confusion_arr = confusion_matrix(y_train, y_train_cv_pred)\n",
    "confusion_df = pd.DataFrame(confusion_arr, columns = [[\"Predicted\",\"Predicted\"],[\"Negative\",\"Positive\"]], index = [[\"Actual\",\"Actual\"],[\"Negative\",\"Positive\"]])\n",
    "print(f\"CV Test Error Rate Estimate {cv_test_mse}\")\n",
    "print(f\"ROC Area Under Curve {roc_auc}\")\n",
    "print(confusion_df)"
   ]
  },
  {
   "cell_type": "code",
   "execution_count": 11,
   "id": "baf16fbe-0b72-4460-830a-21f479889a87",
   "metadata": {},
   "outputs": [
    {
     "name": "stdout",
     "output_type": "stream",
     "text": [
      "CV Test Error Rate Estimate 0.2544594791211988\n",
      "ROC Area Under Curve 0.7452397349647213\n",
      "                Predicted         \n",
      "                 Negative Positive\n",
      "Actual Negative      3104     1211\n",
      "       Positive      1002     3376\n"
     ]
    }
   ],
   "source": [
    "lda_clf = LinearDiscriminantAnalysis()\n",
    "cv_test_mse = StratifiedKFoldCV(lda_clf, X_train_transformed, y_train, cv = 10)\n",
    "y_train_cv_pred = cross_val_predict(lda_clf, X_train_transformed, y_train, cv = 10)\n",
    "roc_auc = roc_auc_score(y_train, y_train_cv_pred)\n",
    "confusion_arr = confusion_matrix(y_train, y_train_cv_pred)\n",
    "confusion_df = pd.DataFrame(confusion_arr, columns = [[\"Predicted\",\"Predicted\"],[\"Negative\",\"Positive\"]], index = [[\"Actual\",\"Actual\"],[\"Negative\",\"Positive\"]])\n",
    "print(f\"CV Test Error Rate Estimate {cv_test_mse}\")\n",
    "print(f\"ROC Area Under Curve {roc_auc}\")\n",
    "print(confusion_df)"
   ]
  },
  {
   "cell_type": "code",
   "execution_count": 12,
   "id": "c6ce98a5-8bec-4f0a-b34a-b8ec1bf4a94e",
   "metadata": {},
   "outputs": [
    {
     "data": {
      "image/png": "[encoded data removed]",
      "text/plain": [
       "<Figure size 640x480 with 1 Axes>"
      ]
     },
     "metadata": {},
     "output_type": "display_data"
    }
   ],
   "source": [
    "fig = plt.figure()\n",
    "ax = fig.add_subplot(1,1,1)\n",
    "ax.set_title(\"ROC Curve\")\n",
    "ax.set_xlabel(\"False Positive Rate\")\n",
    "ax.set_ylabel(\"True Positive Rate\")\n",
    "ax.plot((0,1), (0,1), linestyle = '--')\n",
    "\n",
    "y_train_cv_score = cross_val_predict(lda_clf, X_train_transformed, y_train, cv = 10, method = \"decision_function\")\n",
    "tpr, fpr, thresholds = roc_curve(y_train, y_train_cv_score)\n",
    "ax.plot(tpr, fpr, linestyle = '-', label = \"LDA\")\n",
    "\n",
    "y_train_cv_score = cross_val_predict(log_reg, X_train_transformed, y_train, cv = 10, method = \"decision_function\")\n",
    "tpr, fpr, thresholds = roc_curve(y_train, y_train_cv_score)\n",
    "ax.plot(tpr, fpr, linestyle = '-', label = \"Logistic Regression\")\n",
    "ax.legend()\n",
    "plt.show()"
   ]
  },
  {
   "cell_type": "code",
   "execution_count": 13,
   "id": "b5a6944a-da0a-49fc-a6d2-58c161133812",
   "metadata": {},
   "outputs": [],
   "source": [
    "X_test = pd.read_csv(\"test.csv\")\n",
    "lda_clf = LinearDiscriminantAnalysis()\n",
    "lda_clf.fit(X_train_transformed, y_train)\n",
    "y_test_pred = lda_clf.predict(X_test_transformed).reshape(-1,1)\n",
    "submission_arr = np.concatenate([X_test.loc[:,\"PassengerId\"].values.reshape(-1,1),y_test_pred], axis = 1)\n",
    "submission_df = pd.DataFrame(submission_arr, columns = [\"PassengerId\",\"Transported\"])\n",
    "submission_df.to_csv(\"submission.csv\", index = False)"
   ]
  }
 ],
 "metadata": {
  "kernelspec": {
   "display_name": "Python 3 (ipykernel)",
   "language": "python",
   "name": "python3"
  },
  "language_info": {
   "codemirror_mode": {
    "name": "ipython",
    "version": 3
   },
   "file_extension": ".py",
   "mimetype": "text/x-python",
   "name": "python",
   "nbconvert_exporter": "python",
   "pygments_lexer": "ipython3",
   "version": "3.9.13"
  }
 },
 "nbformat": 4,
 "nbformat_minor": 5
}
